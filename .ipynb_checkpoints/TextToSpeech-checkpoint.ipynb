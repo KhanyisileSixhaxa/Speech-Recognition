{
 "cells": [
  {
   "cell_type": "markdown",
   "id": "9a8c8045",
   "metadata": {},
   "source": [
    "# Text-To-Speech using Tacotron 2"
   ]
  },
  {
   "cell_type": "code",
   "execution_count": 1,
   "id": "e54fab41",
   "metadata": {},
   "outputs": [],
   "source": [
    "# When running this notebook you need to install the below libraries\n",
    "# ! pip3 install deep_phonemizer\n",
    "# ! pip install torchaudio"
   ]
  },
  {
   "cell_type": "markdown",
   "id": "e712545c",
   "metadata": {},
   "source": [
    "We will build a text-to-speech pipeline, using the pretrained Tacotron 2 in torchaudio.\n"
   ]
  },
  {
   "cell_type": "code",
   "execution_count": 5,
   "id": "156e68b2",
   "metadata": {},
   "outputs": [
    {
     "name": "stdout",
     "output_type": "stream",
     "text": [
      "1.10.2\n",
      "0.10.2\n",
      "cpu\n"
     ]
    }
   ],
   "source": [
    "import torch\n",
    "import torchaudio\n",
    "import matplotlib\n",
    "import matplotlib.pyplot as plt\n",
    "import IPython\n",
    "\n",
    "matplotlib.rcParams['figure.figsize'] = [16.0,4.8]\n",
    "\n",
    "torch.random.manual_seed(0)\n",
    "device = \"cuda\" if torch.cuda.is_available() else \"cpu\"\n",
    "\n",
    "print(torch.__version__)\n",
    "print(torchaudio.__version__)\n",
    "print(device)"
   ]
  },
  {
   "cell_type": "markdown",
   "id": "8d83d2e6",
   "metadata": {},
   "source": [
    "## 1. Text Preprocessing\n",
    "\n",
    "### Character-based Encoding\n",
    "\n",
    "The input text  is encoded into a list of symbols, using enlgish characters and phenemes as the symbols. We define a set of symbols e.g. '_-!\\'(),.:;? abcdefghijklmnopqrstuvwxyz'. Then, we will map each character to the matching symbol in the table"
   ]
  },
  {
   "cell_type": "code",
   "execution_count": 10,
   "id": "1dc84b43",
   "metadata": {},
   "outputs": [
    {
     "name": "stdout",
     "output_type": "stream",
     "text": [
      "[31, 16, 30, 31, 20, 25, 18, 11, 31, 19, 20, 30, 11, 26, 32, 31, 2]\n"
     ]
    }
   ],
   "source": [
    "symbols = '_-!\\'(),.:;? abcdefghijklmnopqrstuvwxyz'\n",
    "look_up = {s: i for i, s in enumerate(symbols)}\n",
    "symbols = set(symbols)\n",
    "\n",
    "def text_to_sequence(text):\n",
    "  text = text.lower()\n",
    "  return [look_up[s] for s in text if s in symbols]\n",
    "\n",
    "text = \"Testing this out!\"\n",
    "print(text_to_sequence(text))"
   ]
  },
  {
   "cell_type": "markdown",
   "id": "e504e37c",
   "metadata": {},
   "source": [
    "The symbol table must match the pretrained Tacotron2 model expects. torchaudio provides the transform along with the pretrained model, e.g. you can instantiate and transform as below"
   ]
  },
  {
   "cell_type": "code",
   "execution_count": 28,
   "id": "c806c7ff",
   "metadata": {},
   "outputs": [],
   "source": [
    "def character_encoding(text):\n",
    "    \n",
    "    processor = torchaudio.pipelines.TACOTRON2_WAVERNN_CHAR_LJSPEECH.get_text_processor()\n",
    "    processed, lengths = processor(text)\n",
    "    \n",
    "    return processor, processed, lengths"
   ]
  },
  {
   "cell_type": "code",
   "execution_count": 29,
   "id": "8bffd7a6",
   "metadata": {},
   "outputs": [
    {
     "name": "stdout",
     "output_type": "stream",
     "text": [
      "Processed string : tensor([[31, 16, 30, 31, 20, 25, 18, 11, 31, 19, 20, 30, 11, 26, 32, 31,  2]])\n",
      "Length : tensor([17], dtype=torch.int32)\n"
     ]
    }
   ],
   "source": [
    "text = \"Testing this out!\"\n",
    "processor, processed, lengths = character_encoding(text)\n",
    "print(f\"Processed string : {processed}\")\n",
    "print(f\"Length : {lengths}\")"
   ]
  },
  {
   "cell_type": "markdown",
   "id": "012e9e6d",
   "metadata": {},
   "source": [
    "The processor object tkaaes either text of list of texts as inputs. When a list of text is provided, the return lengths represents the valid length of each processed token in the output batch.\n",
    "\n",
    "The intermediate representation can be retrieved as follows:"
   ]
  },
  {
   "cell_type": "code",
   "execution_count": 30,
   "id": "7c315b06",
   "metadata": {},
   "outputs": [
    {
     "name": "stdout",
     "output_type": "stream",
     "text": [
      "['t', 'e', 's', 't', 'i', 'n', 'g', ' ', 't', 'h', 'i', 's', ' ', 'o', 'u', 't', '!']\n"
     ]
    }
   ],
   "source": [
    "print([processor.tokens[i] for i in processed[0, :lengths[0]]])"
   ]
  },
  {
   "cell_type": "markdown",
   "id": "0d36dd6e",
   "metadata": {},
   "source": [
    "## Phoneme-based encoding\n",
    "\n",
    "Phoneme-based encoding is similar to character-based encoding with the exception that is uses a symbol table based on phonemes and a Grapheme-to-Phoneme(G2P) model.\n",
    "\n",
    "Similar to character-based encoding, the encoding process is expected to match what a pretrained Tacotron2 model is trained on. torchaudio has an interface the create the process and the below code demonstrates this."
   ]
  },
  {
   "cell_type": "code",
   "execution_count": 32,
   "id": "1e043ae8",
   "metadata": {},
   "outputs": [],
   "source": [
    "def phoneme_encoding(text):\n",
    "\n",
    "    processor = torchaudio.pipelines.TACOTRON2_WAVERNN_PHONE_LJSPEECH.get_text_processor()\n",
    "\n",
    "    with torch.inference_mode():\n",
    "        processed, lengths = processor(text)\n",
    "    \n",
    "    return processor, processed, lengths  "
   ]
  },
  {
   "cell_type": "code",
   "execution_count": 35,
   "id": "b833cb51",
   "metadata": {},
   "outputs": [
    {
     "name": "stdout",
     "output_type": "stream",
     "text": [
      "Processed string : tensor([[92, 59, 11, 12, 78, 11, 16, 81, 11, 39, 55, 79, 11, 20, 53, 40, 67,  2]])\n",
      "Length : tensor([18], dtype=torch.int32)\n"
     ]
    }
   ],
   "source": [
    "text = \"We are at this again!\"\n",
    "processor, processed, lengths = phoneme_encoding(text)\n",
    "print(f\"Processed string : {processed}\")\n",
    "print(f\"Length : {lengths}\")"
   ]
  },
  {
   "cell_type": "markdown",
   "id": "bf9df093",
   "metadata": {},
   "source": [
    "We notice that the phoneme-based encoded values are different from the character-based encoded values.\n",
    "\n",
    "The intermediate representation looks like the following:"
   ]
  },
  {
   "cell_type": "code",
   "execution_count": 36,
   "id": "109afd2a",
   "metadata": {},
   "outputs": [
    {
     "name": "stdout",
     "output_type": "stream",
     "text": [
      "['W', 'IY', ' ', 'AA', 'R', ' ', 'AE', 'T', ' ', 'DH', 'IH', 'S', ' ', 'AH', 'G', 'EH', 'N', '!']\n"
     ]
    }
   ],
   "source": [
    "print([processor.tokens[i] for i in processed[0,:lengths[0]]])"
   ]
  },
  {
   "cell_type": "markdown",
   "id": "3ebe2bd2",
   "metadata": {},
   "source": [
    "## 2. Spectrogram Generation\n",
    "\n",
    "From the encoded text, a spectogram is generated using the Tacotron2 model. We retrieve the pretrained weights and additional data to be used with Tacotron2 through the use of tochaudio.pipelines.Tacotron2TTSBundle."
   ]
  },
  {
   "cell_type": "code",
   "execution_count": 41,
   "id": "b996970f",
   "metadata": {},
   "outputs": [
    {
     "data": {
      "text/plain": [
       "<matplotlib.image.AxesImage at 0x7fed03bb2cd0>"
      ]
     },
     "execution_count": 41,
     "metadata": {},
     "output_type": "execute_result"
    },
    {
     "data": {
      "image/png": "[encoded data removed]",
      "text/plain": [
       "<Figure size 1152x345.6 with 1 Axes>"
      ]
     },
     "metadata": {
      "needs_background": "light"
     },
     "output_type": "display_data"
    }
   ],
   "source": [
    "bundle = torchaudio.pipelines.TACOTRON2_WAVERNN_PHONE_LJSPEECH\n",
    "processor = bundle.get_text_processor()\n",
    "tacotron2 = bundle.get_tacotron2().to(device)\n",
    "\n",
    "text = \"Tacotron is awesome!\"\n",
    "\n",
    "with torch.inference_mode():\n",
    "    processed, lengths = processor(text)\n",
    "    processed = processed.to(device)\n",
    "    lengths = lengths.to(device)\n",
    "    spec, _, _ = tacotron2.infer(processed, lengths)\n",
    "\n",
    "\n",
    "plt.imshow(spec[0].cpu().detach())"
   ]
  },
  {
   "cell_type": "code",
   "execution_count": null,
   "id": "feba856f",
   "metadata": {},
   "outputs": [],
   "source": []
  }
 ],
 "metadata": {
  "kernelspec": {
   "display_name": "Python 3",
   "language": "python",
   "name": "python3"
  },
  "language_info": {
   "codemirror_mode": {
    "name": "ipython",
    "version": 3
   },
   "file_extension": ".py",
   "mimetype": "text/x-python",
   "name": "python",
   "nbconvert_exporter": "python",
   "pygments_lexer": "ipython3",
   "version": "3.8.8"
  }
 },
 "nbformat": 4,
 "nbformat_minor": 5
}
