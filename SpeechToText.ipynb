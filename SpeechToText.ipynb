{
 "cells": [
  {
   "cell_type": "code",
   "execution_count": 1,
   "id": "87ed6b2e",
   "metadata": {},
   "outputs": [],
   "source": [
    "#  When running this notebook you need to install the below libraries\n",
    "#! pip install SpeechRecognition\n",
    "#! pip install pydub\n",
    "# pip install pyaudio in  the terminal window"
   ]
  },
  {
   "cell_type": "code",
   "execution_count": 2,
   "id": "495d8a39",
   "metadata": {},
   "outputs": [],
   "source": [
    "# importing libraries\n",
    "import speech_recognition as sr\n",
    "from pydub import AudioSegment\n",
    "from pydub.playback import play"
   ]
  },
  {
   "cell_type": "code",
   "execution_count": 3,
   "id": "7e18fcba",
   "metadata": {},
   "outputs": [],
   "source": [
    "def auidofile(file):\n",
    "\n",
    "    # initialize recgonizer class\n",
    "    r = sr.Recognizer()\n",
    "\n",
    "    # source as audio file\n",
    "    with sr.AudioFile(file) as source:\n",
    "\n",
    "        # record audio from source and store in audio variable\n",
    "        audio = r.record(source)\n",
    "\n",
    "        # print text if call to google API successful or \n",
    "        # throw exception error if not audible\n",
    "        try:\n",
    "            text = r.recognize_google(audio)\n",
    "            return(print(text))\n",
    "\n",
    "        except:\n",
    "            return(print('Sorry could not recognize your voice'))"
   ]
  },
  {
   "cell_type": "code",
   "execution_count": 5,
   "id": "08908568",
   "metadata": {},
   "outputs": [
    {
     "name": "stdout",
     "output_type": "stream",
     "text": [
      "the stale smell of old beer drinkers it takes heat to bring out the order a cold dip restores health and just a salt pickle taste fine with him tacos Al Pastore are my favourite is zestful food is the hot cross bun\n"
     ]
    }
   ],
   "source": [
    "auidofile('harvard.wav')"
   ]
  },
  {
   "cell_type": "code",
   "execution_count": 6,
   "id": "5d79a987",
   "metadata": {},
   "outputs": [],
   "source": [
    "def microphone():\n",
    "\n",
    "    r = sr.Recognizer()\n",
    "\n",
    "    # Reading Microphone as source\n",
    "    # listening the speech and store in audio_text variable\n",
    "\n",
    "    with sr.Microphone() as source:\n",
    "        print(\"Talk\")\n",
    "        audio_text = r.listen(source, timeout=10)\n",
    "        print(\"Time over, thanks\")\n",
    "    # recoginize_() method will throw a request error if the API is unreachable,\n",
    "    # hence using exception handling\n",
    "\n",
    "        try:\n",
    "            # using google speech recognition\n",
    "            return(print(\"Text: \"+r.recognize_google(audio_text)))\n",
    "        except:\n",
    "            return(print(\"Sorry, I did not get that\"))"
   ]
  },
  {
   "cell_type": "code",
   "execution_count": 7,
   "id": "bf268ccd",
   "metadata": {},
   "outputs": [
    {
     "name": "stdout",
     "output_type": "stream",
     "text": [
      "Talk\n",
      "Time over, thanks\n",
      "Text: hi how are you doing I'm good and you I'm glad we could have this talk you know but yeah hope that's cool people how long is 10 seconds\n"
     ]
    }
   ],
   "source": [
    "microphone()"
   ]
  },
  {
   "cell_type": "code",
   "execution_count": null,
   "id": "31e7981a",
   "metadata": {},
   "outputs": [],
   "source": []
  }
 ],
 "metadata": {
  "kernelspec": {
   "display_name": "Python 3",
   "language": "python",
   "name": "python3"
  },
  "language_info": {
   "codemirror_mode": {
    "name": "ipython",
    "version": 3
   },
   "file_extension": ".py",
   "mimetype": "text/x-python",
   "name": "python",
   "nbconvert_exporter": "python",
   "pygments_lexer": "ipython3",
   "version": "3.8.8"
  }
 },
 "nbformat": 4,
 "nbformat_minor": 5
}
